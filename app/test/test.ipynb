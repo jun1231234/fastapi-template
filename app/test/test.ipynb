{
 "cells": [
  {
   "cell_type": "code",
   "execution_count": 3,
   "metadata": {},
   "outputs": [
    {
     "ename": "ClientAuthenticationError",
     "evalue": "(401) The DocumentModels_AnalyzeDocumentFromStream Operation under Azure AI Document Intelligence 2024-11-30 is not supported with the current subscription key and pricing tier OpenAI.S0.\nCode: 401\nMessage: The DocumentModels_AnalyzeDocumentFromStream Operation under Azure AI Document Intelligence 2024-11-30 is not supported with the current subscription key and pricing tier OpenAI.S0.",
     "output_type": "error",
     "traceback": [
      "\u001b[0;31m---------------------------------------------------------------------------\u001b[0m",
      "\u001b[0;31mClientAuthenticationError\u001b[0m                 Traceback (most recent call last)",
      "Cell \u001b[0;32mIn[3], line 13\u001b[0m\n\u001b[1;32m      8\u001b[0m model\u001b[38;5;241m=\u001b[39m\u001b[38;5;124m\"\u001b[39m\u001b[38;5;124m\"\u001b[39m\n\u001b[1;32m      9\u001b[0m loader \u001b[38;5;241m=\u001b[39m AzureAIDocumentIntelligenceLoader(\n\u001b[1;32m     10\u001b[0m     api_endpoint\u001b[38;5;241m=\u001b[39mendpoint, api_key\u001b[38;5;241m=\u001b[39mkey, file_path\u001b[38;5;241m=\u001b[39mfile_path, api_model\u001b[38;5;241m=\u001b[39m\u001b[38;5;124m\"\u001b[39m\u001b[38;5;124mprebuilt-layout\u001b[39m\u001b[38;5;124m\"\u001b[39m\n\u001b[1;32m     11\u001b[0m )\n\u001b[0;32m---> 13\u001b[0m documents \u001b[38;5;241m=\u001b[39m \u001b[43mloader\u001b[49m\u001b[38;5;241;43m.\u001b[39;49m\u001b[43mload\u001b[49m\u001b[43m(\u001b[49m\u001b[43m)\u001b[49m\n\u001b[1;32m     14\u001b[0m \u001b[38;5;28mprint\u001b[39m(documents[\u001b[38;5;241m0\u001b[39m])\n",
      "File \u001b[0;32m~/Documents/98.project/service-platform/venv/lib/python3.11/site-packages/langchain_core/document_loaders/base.py:31\u001b[0m, in \u001b[0;36mBaseLoader.load\u001b[0;34m(self)\u001b[0m\n\u001b[1;32m     29\u001b[0m \u001b[38;5;28;01mdef\u001b[39;00m\u001b[38;5;250m \u001b[39m\u001b[38;5;21mload\u001b[39m(\u001b[38;5;28mself\u001b[39m) \u001b[38;5;241m-\u001b[39m\u001b[38;5;241m>\u001b[39m \u001b[38;5;28mlist\u001b[39m[Document]:\n\u001b[1;32m     30\u001b[0m \u001b[38;5;250m    \u001b[39m\u001b[38;5;124;03m\"\"\"Load data into Document objects.\"\"\"\u001b[39;00m\n\u001b[0;32m---> 31\u001b[0m     \u001b[38;5;28;01mreturn\u001b[39;00m \u001b[38;5;28;43mlist\u001b[39;49m\u001b[43m(\u001b[49m\u001b[38;5;28;43mself\u001b[39;49m\u001b[38;5;241;43m.\u001b[39;49m\u001b[43mlazy_load\u001b[49m\u001b[43m(\u001b[49m\u001b[43m)\u001b[49m\u001b[43m)\u001b[49m\n",
      "File \u001b[0;32m~/Documents/98.project/service-platform/venv/lib/python3.11/site-packages/langchain_community/document_loaders/doc_intelligence.py:101\u001b[0m, in \u001b[0;36mAzureAIDocumentIntelligenceLoader.lazy_load\u001b[0;34m(self)\u001b[0m\n\u001b[1;32m     99\u001b[0m \u001b[38;5;28;01mif\u001b[39;00m \u001b[38;5;28mself\u001b[39m\u001b[38;5;241m.\u001b[39mfile_path \u001b[38;5;129;01mis\u001b[39;00m \u001b[38;5;129;01mnot\u001b[39;00m \u001b[38;5;28;01mNone\u001b[39;00m:\n\u001b[1;32m    100\u001b[0m     blob \u001b[38;5;241m=\u001b[39m Blob\u001b[38;5;241m.\u001b[39mfrom_path(\u001b[38;5;28mself\u001b[39m\u001b[38;5;241m.\u001b[39mfile_path)  \u001b[38;5;66;03m# type: ignore[attr-defined]\u001b[39;00m\n\u001b[0;32m--> 101\u001b[0m     \u001b[38;5;28;01myield from\u001b[39;00m \u001b[38;5;28;43mself\u001b[39;49m\u001b[38;5;241;43m.\u001b[39;49m\u001b[43mparser\u001b[49m\u001b[38;5;241;43m.\u001b[39;49m\u001b[43mparse\u001b[49m\u001b[43m(\u001b[49m\u001b[43mblob\u001b[49m\u001b[43m)\u001b[49m\n\u001b[1;32m    102\u001b[0m \u001b[38;5;28;01melif\u001b[39;00m \u001b[38;5;28mself\u001b[39m\u001b[38;5;241m.\u001b[39murl_path \u001b[38;5;129;01mis\u001b[39;00m \u001b[38;5;129;01mnot\u001b[39;00m \u001b[38;5;28;01mNone\u001b[39;00m:\n\u001b[1;32m    103\u001b[0m     \u001b[38;5;28;01myield from\u001b[39;00m \u001b[38;5;28mself\u001b[39m\u001b[38;5;241m.\u001b[39mparser\u001b[38;5;241m.\u001b[39mparse_url(\u001b[38;5;28mself\u001b[39m\u001b[38;5;241m.\u001b[39murl_path)  \u001b[38;5;66;03m# type: ignore[arg-type]\u001b[39;00m\n",
      "File \u001b[0;32m~/Documents/98.project/service-platform/venv/lib/python3.11/site-packages/langchain_core/document_loaders/base.py:127\u001b[0m, in \u001b[0;36mBaseBlobParser.parse\u001b[0;34m(self, blob)\u001b[0m\n\u001b[1;32m    112\u001b[0m \u001b[38;5;28;01mdef\u001b[39;00m\u001b[38;5;250m \u001b[39m\u001b[38;5;21mparse\u001b[39m(\u001b[38;5;28mself\u001b[39m, blob: Blob) \u001b[38;5;241m-\u001b[39m\u001b[38;5;241m>\u001b[39m \u001b[38;5;28mlist\u001b[39m[Document]:\n\u001b[1;32m    113\u001b[0m \u001b[38;5;250m    \u001b[39m\u001b[38;5;124;03m\"\"\"Eagerly parse the blob into a document or documents.\u001b[39;00m\n\u001b[1;32m    114\u001b[0m \n\u001b[1;32m    115\u001b[0m \u001b[38;5;124;03m    This is a convenience method for interactive development environment.\u001b[39;00m\n\u001b[0;32m   (...)\u001b[0m\n\u001b[1;32m    125\u001b[0m \u001b[38;5;124;03m        List of documents\u001b[39;00m\n\u001b[1;32m    126\u001b[0m \u001b[38;5;124;03m    \"\"\"\u001b[39;00m\n\u001b[0;32m--> 127\u001b[0m     \u001b[38;5;28;01mreturn\u001b[39;00m \u001b[38;5;28;43mlist\u001b[39;49m\u001b[43m(\u001b[49m\u001b[38;5;28;43mself\u001b[39;49m\u001b[38;5;241;43m.\u001b[39;49m\u001b[43mlazy_parse\u001b[49m\u001b[43m(\u001b[49m\u001b[43mblob\u001b[49m\u001b[43m)\u001b[49m\u001b[43m)\u001b[49m\n",
      "File \u001b[0;32m~/Documents/98.project/service-platform/venv/lib/python3.11/site-packages/langchain_community/document_loaders/parsers/doc_intelligence.py:80\u001b[0m, in \u001b[0;36mAzureAIDocumentIntelligenceParser.lazy_parse\u001b[0;34m(self, blob)\u001b[0m\n\u001b[1;32m     77\u001b[0m \u001b[38;5;250m\u001b[39m\u001b[38;5;124;03m\"\"\"Lazily parse the blob.\"\"\"\u001b[39;00m\n\u001b[1;32m     79\u001b[0m \u001b[38;5;28;01mwith\u001b[39;00m blob\u001b[38;5;241m.\u001b[39mas_bytes_io() \u001b[38;5;28;01mas\u001b[39;00m file_obj:\n\u001b[0;32m---> 80\u001b[0m     poller \u001b[38;5;241m=\u001b[39m \u001b[38;5;28;43mself\u001b[39;49m\u001b[38;5;241;43m.\u001b[39;49m\u001b[43mclient\u001b[49m\u001b[38;5;241;43m.\u001b[39;49m\u001b[43mbegin_analyze_document\u001b[49m\u001b[43m(\u001b[49m\n\u001b[1;32m     81\u001b[0m \u001b[43m        \u001b[49m\u001b[38;5;28;43mself\u001b[39;49m\u001b[38;5;241;43m.\u001b[39;49m\u001b[43mapi_model\u001b[49m\u001b[43m,\u001b[49m\n\u001b[1;32m     82\u001b[0m \u001b[43m        \u001b[49m\u001b[43mbody\u001b[49m\u001b[38;5;241;43m=\u001b[39;49m\u001b[43mfile_obj\u001b[49m\u001b[43m,\u001b[49m\n\u001b[1;32m     83\u001b[0m \u001b[43m        \u001b[49m\u001b[43mcontent_type\u001b[49m\u001b[38;5;241;43m=\u001b[39;49m\u001b[38;5;124;43m\"\u001b[39;49m\u001b[38;5;124;43mapplication/octet-stream\u001b[39;49m\u001b[38;5;124;43m\"\u001b[39;49m\u001b[43m,\u001b[49m\n\u001b[1;32m     84\u001b[0m \u001b[43m        \u001b[49m\u001b[43moutput_content_format\u001b[49m\u001b[38;5;241;43m=\u001b[39;49m\u001b[38;5;124;43m\"\u001b[39;49m\u001b[38;5;124;43mmarkdown\u001b[39;49m\u001b[38;5;124;43m\"\u001b[39;49m\u001b[43m \u001b[49m\u001b[38;5;28;43;01mif\u001b[39;49;00m\u001b[43m \u001b[49m\u001b[38;5;28;43mself\u001b[39;49m\u001b[38;5;241;43m.\u001b[39;49m\u001b[43mmode\u001b[49m\u001b[43m \u001b[49m\u001b[38;5;241;43m==\u001b[39;49m\u001b[43m \u001b[49m\u001b[38;5;124;43m\"\u001b[39;49m\u001b[38;5;124;43mmarkdown\u001b[39;49m\u001b[38;5;124;43m\"\u001b[39;49m\u001b[43m \u001b[49m\u001b[38;5;28;43;01melse\u001b[39;49;00m\u001b[43m \u001b[49m\u001b[38;5;124;43m\"\u001b[39;49m\u001b[38;5;124;43mtext\u001b[39;49m\u001b[38;5;124;43m\"\u001b[39;49m\u001b[43m,\u001b[49m\n\u001b[1;32m     85\u001b[0m \u001b[43m    \u001b[49m\u001b[43m)\u001b[49m\n\u001b[1;32m     86\u001b[0m     result \u001b[38;5;241m=\u001b[39m poller\u001b[38;5;241m.\u001b[39mresult()\n\u001b[1;32m     88\u001b[0m     \u001b[38;5;28;01mif\u001b[39;00m \u001b[38;5;28mself\u001b[39m\u001b[38;5;241m.\u001b[39mmode \u001b[38;5;129;01min\u001b[39;00m [\u001b[38;5;124m\"\u001b[39m\u001b[38;5;124msingle\u001b[39m\u001b[38;5;124m\"\u001b[39m, \u001b[38;5;124m\"\u001b[39m\u001b[38;5;124mmarkdown\u001b[39m\u001b[38;5;124m\"\u001b[39m]:\n",
      "File \u001b[0;32m~/Documents/98.project/service-platform/venv/lib/python3.11/site-packages/azure/core/tracing/decorator.py:105\u001b[0m, in \u001b[0;36mdistributed_trace.<locals>.decorator.<locals>.wrapper_use_tracer\u001b[0;34m(*args, **kwargs)\u001b[0m\n\u001b[1;32m    103\u001b[0m span_impl_type \u001b[38;5;241m=\u001b[39m settings\u001b[38;5;241m.\u001b[39mtracing_implementation()\n\u001b[1;32m    104\u001b[0m \u001b[38;5;28;01mif\u001b[39;00m span_impl_type \u001b[38;5;129;01mis\u001b[39;00m \u001b[38;5;28;01mNone\u001b[39;00m:\n\u001b[0;32m--> 105\u001b[0m     \u001b[38;5;28;01mreturn\u001b[39;00m \u001b[43mfunc\u001b[49m\u001b[43m(\u001b[49m\u001b[38;5;241;43m*\u001b[39;49m\u001b[43margs\u001b[49m\u001b[43m,\u001b[49m\u001b[43m \u001b[49m\u001b[38;5;241;43m*\u001b[39;49m\u001b[38;5;241;43m*\u001b[39;49m\u001b[43mkwargs\u001b[49m\u001b[43m)\u001b[49m\n\u001b[1;32m    107\u001b[0m \u001b[38;5;66;03m# Merge span is parameter is set, but only if no explicit parent are passed\u001b[39;00m\n\u001b[1;32m    108\u001b[0m \u001b[38;5;28;01mif\u001b[39;00m merge_span \u001b[38;5;129;01mand\u001b[39;00m \u001b[38;5;129;01mnot\u001b[39;00m passed_in_parent:\n",
      "File \u001b[0;32m~/Documents/98.project/service-platform/venv/lib/python3.11/site-packages/azure/ai/documentintelligence/_operations/_patch.py:596\u001b[0m, in \u001b[0;36mDocumentIntelligenceClientOperationsMixin.begin_analyze_document\u001b[0;34m(self, model_id, body, pages, locale, string_index_type, features, query_fields, output_content_format, output, **kwargs)\u001b[0m\n\u001b[1;32m    594\u001b[0m     \u001b[38;5;28;01mif\u001b[39;00m \u001b[38;5;28misinstance\u001b[39m(body, (\u001b[38;5;28mbytes\u001b[39m, io\u001b[38;5;241m.\u001b[39mBytesIO, io\u001b[38;5;241m.\u001b[39mBufferedReader)):\n\u001b[1;32m    595\u001b[0m         content_type \u001b[38;5;241m=\u001b[39m \u001b[38;5;124m\"\u001b[39m\u001b[38;5;124mapplication/octet-stream\u001b[39m\u001b[38;5;124m\"\u001b[39m\n\u001b[0;32m--> 596\u001b[0m     raw_result \u001b[38;5;241m=\u001b[39m \u001b[38;5;28;43mself\u001b[39;49m\u001b[38;5;241;43m.\u001b[39;49m\u001b[43m_analyze_document_initial\u001b[49m\u001b[43m(\u001b[49m\n\u001b[1;32m    597\u001b[0m \u001b[43m        \u001b[49m\u001b[43mmodel_id\u001b[49m\u001b[38;5;241;43m=\u001b[39;49m\u001b[43mmodel_id\u001b[49m\u001b[43m,\u001b[49m\n\u001b[1;32m    598\u001b[0m \u001b[43m        \u001b[49m\u001b[43mbody\u001b[49m\u001b[38;5;241;43m=\u001b[39;49m\u001b[43mbody\u001b[49m\u001b[43m,\u001b[49m\n\u001b[1;32m    599\u001b[0m \u001b[43m        \u001b[49m\u001b[43mpages\u001b[49m\u001b[38;5;241;43m=\u001b[39;49m\u001b[43mpages\u001b[49m\u001b[43m,\u001b[49m\n\u001b[1;32m    600\u001b[0m \u001b[43m        \u001b[49m\u001b[43mlocale\u001b[49m\u001b[38;5;241;43m=\u001b[39;49m\u001b[43mlocale\u001b[49m\u001b[43m,\u001b[49m\n\u001b[1;32m    601\u001b[0m \u001b[43m        \u001b[49m\u001b[43mstring_index_type\u001b[49m\u001b[38;5;241;43m=\u001b[39;49m\u001b[43mstring_index_type\u001b[49m\u001b[43m,\u001b[49m\n\u001b[1;32m    602\u001b[0m \u001b[43m        \u001b[49m\u001b[43mfeatures\u001b[49m\u001b[38;5;241;43m=\u001b[39;49m\u001b[43mfeatures\u001b[49m\u001b[43m,\u001b[49m\n\u001b[1;32m    603\u001b[0m \u001b[43m        \u001b[49m\u001b[43mquery_fields\u001b[49m\u001b[38;5;241;43m=\u001b[39;49m\u001b[43mquery_fields\u001b[49m\u001b[43m,\u001b[49m\n\u001b[1;32m    604\u001b[0m \u001b[43m        \u001b[49m\u001b[43moutput_content_format\u001b[49m\u001b[38;5;241;43m=\u001b[39;49m\u001b[43moutput_content_format\u001b[49m\u001b[43m,\u001b[49m\n\u001b[1;32m    605\u001b[0m \u001b[43m        \u001b[49m\u001b[43moutput\u001b[49m\u001b[38;5;241;43m=\u001b[39;49m\u001b[43moutput\u001b[49m\u001b[43m,\u001b[49m\n\u001b[1;32m    606\u001b[0m \u001b[43m        \u001b[49m\u001b[43mcontent_type\u001b[49m\u001b[38;5;241;43m=\u001b[39;49m\u001b[43mcontent_type\u001b[49m\u001b[43m,\u001b[49m\n\u001b[1;32m    607\u001b[0m \u001b[43m        \u001b[49m\u001b[38;5;28;43mcls\u001b[39;49m\u001b[38;5;241;43m=\u001b[39;49m\u001b[38;5;28;43;01mlambda\u001b[39;49;00m\u001b[43m \u001b[49m\u001b[43mx\u001b[49m\u001b[43m,\u001b[49m\u001b[43m \u001b[49m\u001b[43my\u001b[49m\u001b[43m,\u001b[49m\u001b[43m \u001b[49m\u001b[43mz\u001b[49m\u001b[43m:\u001b[49m\u001b[43m \u001b[49m\u001b[43mx\u001b[49m\u001b[43m,\u001b[49m\n\u001b[1;32m    608\u001b[0m \u001b[43m        \u001b[49m\u001b[43mheaders\u001b[49m\u001b[38;5;241;43m=\u001b[39;49m\u001b[43m_headers\u001b[49m\u001b[43m,\u001b[49m\n\u001b[1;32m    609\u001b[0m \u001b[43m        \u001b[49m\u001b[43mparams\u001b[49m\u001b[38;5;241;43m=\u001b[39;49m\u001b[43m_params\u001b[49m\u001b[43m,\u001b[49m\n\u001b[1;32m    610\u001b[0m \u001b[43m        \u001b[49m\u001b[38;5;241;43m*\u001b[39;49m\u001b[38;5;241;43m*\u001b[39;49m\u001b[43mkwargs\u001b[49m\u001b[43m,\u001b[49m\n\u001b[1;32m    611\u001b[0m \u001b[43m    \u001b[49m\u001b[43m)\u001b[49m\n\u001b[1;32m    612\u001b[0m     raw_result\u001b[38;5;241m.\u001b[39mhttp_response\u001b[38;5;241m.\u001b[39mread()  \u001b[38;5;66;03m# type: ignore\u001b[39;00m\n\u001b[1;32m    613\u001b[0m kwargs\u001b[38;5;241m.\u001b[39mpop(\u001b[38;5;124m\"\u001b[39m\u001b[38;5;124merror_map\u001b[39m\u001b[38;5;124m\"\u001b[39m, \u001b[38;5;28;01mNone\u001b[39;00m)\n",
      "File \u001b[0;32m~/Documents/98.project/service-platform/venv/lib/python3.11/site-packages/azure/ai/documentintelligence/_operations/_operations.py:817\u001b[0m, in \u001b[0;36mDocumentIntelligenceClientOperationsMixin._analyze_document_initial\u001b[0;34m(self, model_id, body, pages, locale, string_index_type, features, query_fields, output_content_format, output, **kwargs)\u001b[0m\n\u001b[1;32m    815\u001b[0m \u001b[38;5;28;01mexcept\u001b[39;00m (StreamConsumedError, StreamClosedError):\n\u001b[1;32m    816\u001b[0m     \u001b[38;5;28;01mpass\u001b[39;00m\n\u001b[0;32m--> 817\u001b[0m \u001b[43mmap_error\u001b[49m\u001b[43m(\u001b[49m\u001b[43mstatus_code\u001b[49m\u001b[38;5;241;43m=\u001b[39;49m\u001b[43mresponse\u001b[49m\u001b[38;5;241;43m.\u001b[39;49m\u001b[43mstatus_code\u001b[49m\u001b[43m,\u001b[49m\u001b[43m \u001b[49m\u001b[43mresponse\u001b[49m\u001b[38;5;241;43m=\u001b[39;49m\u001b[43mresponse\u001b[49m\u001b[43m,\u001b[49m\u001b[43m \u001b[49m\u001b[43merror_map\u001b[49m\u001b[38;5;241;43m=\u001b[39;49m\u001b[43merror_map\u001b[49m\u001b[43m)\u001b[49m\n\u001b[1;32m    818\u001b[0m error \u001b[38;5;241m=\u001b[39m _failsafe_deserialize(_models\u001b[38;5;241m.\u001b[39mDocumentIntelligenceErrorResponse, response\u001b[38;5;241m.\u001b[39mjson())\n\u001b[1;32m    819\u001b[0m \u001b[38;5;28;01mraise\u001b[39;00m HttpResponseError(response\u001b[38;5;241m=\u001b[39mresponse, model\u001b[38;5;241m=\u001b[39merror)\n",
      "File \u001b[0;32m~/Documents/98.project/service-platform/venv/lib/python3.11/site-packages/azure/core/exceptions.py:163\u001b[0m, in \u001b[0;36mmap_error\u001b[0;34m(status_code, response, error_map)\u001b[0m\n\u001b[1;32m    161\u001b[0m     \u001b[38;5;28;01mreturn\u001b[39;00m\n\u001b[1;32m    162\u001b[0m error \u001b[38;5;241m=\u001b[39m error_type(response\u001b[38;5;241m=\u001b[39mresponse)\n\u001b[0;32m--> 163\u001b[0m \u001b[38;5;28;01mraise\u001b[39;00m error\n",
      "\u001b[0;31mClientAuthenticationError\u001b[0m: (401) The DocumentModels_AnalyzeDocumentFromStream Operation under Azure AI Document Intelligence 2024-11-30 is not supported with the current subscription key and pricing tier OpenAI.S0.\nCode: 401\nMessage: The DocumentModels_AnalyzeDocumentFromStream Operation under Azure AI Document Intelligence 2024-11-30 is not supported with the current subscription key and pricing tier OpenAI.S0."
     ]
    }
   ],
   "source": [
    "from langchain_community.document_loaders import AzureAIDocumentIntelligenceLoader\n",
    "import os\n",
    "root_dir=os.getcwd()\n",
    "file_name=\"test.pdf\"\n",
    "file_path = f\"{root_dir}/app/data/{file_name}\"\n",
    "endpoint = \"https://dn-aoai-korea-central.openai.azure.com/\"\n",
    "key = \"EKa2fAi31qntjHBPS0gkMkkawq20j2obpI3syhMSeifQboaKztkcJQQJ99ALACNns7RXJ3w3AAABACOGmUzR\"\n",
    "# ClientAuthenticationError: (401) The DocumentModels_AnalyzeDocumentFromStream Operation under Azure AI Document Intelligence 2024-11-30 is not supported with the current subscription key and pricing tier OpenAI.S0.\n",
    "# Code: 401\n",
    "# Message: The DocumentModels_AnalyzeDocumentFromStream Operation under Azure AI Document Intelligence 2024-11-30 is not supported with the current subscription key and pricing tier OpenAI.S0.\n",
    "loader = AzureAIDocumentIntelligenceLoader(\n",
    "    api_endpoint=endpoint, api_key=key, file_path=file_path, api_model=\"prebuilt-layout\"\n",
    ")\n",
    "\n",
    "documents = loader.load()\n",
    "print(documents[0])"
   ]
  },
  {
   "cell_type": "code",
   "execution_count": 1,
   "metadata": {},
   "outputs": [
    {
     "name": "stdout",
     "output_type": "stream",
     "text": [
      "/Users/user/Documents/98.project/service-platform\n"
     ]
    }
   ],
   "source": [
    "import os\n",
    "print(os.getcwd())\n"
   ]
  },
  {
   "cell_type": "code",
   "execution_count": 1,
   "metadata": {},
   "outputs": [
    {
     "name": "stdout",
     "output_type": "stream",
     "text": [
      "[0.020976193249225616, -0.02854049764573574, 0.003906212281435728]\n"
     ]
    }
   ],
   "source": [
    "from langchain_openai import AzureOpenAIEmbeddings\n",
    "\n",
    "embeddings = AzureOpenAIEmbeddings(\n",
    "    azure_endpoint=\"https://dn-aoai-east-us.openai.azure.com/\",\n",
    "    deployment=\"DN-text-embedding-3-small\",\n",
    "    openai_api_key=\"BXCs988ooSntF5CbLixyOeqUdtlNXduu14T2Q1mFxqNf9WCU12JPJQQJ99BAACYeBjFXJ3w3AAABACOGXw40\"\n",
    ")\n",
    "\n",
    "input_text = \"The meaning of life is 42\"\n",
    "vector = embeddings.embed_query(input_text)\n",
    "print(vector[:3])"
   ]
  },
  {
   "cell_type": "code",
   "execution_count": 2,
   "metadata": {},
   "outputs": [
    {
     "name": "stdout",
     "output_type": "stream",
     "text": [
      "7\n",
      "{'producer': 'PDFium', 'creator': 'PDFium', 'creationdate': 'D:20240826080442', 'source': '/Users/user/Documents/98.project/service-platform/app/data/test.pdf', 'file_path': '/Users/user/Documents/98.project/service-platform/app/data/test.pdf', 'total_pages': 1, 'format': 'PDF 1.7', 'title': '', 'author': '', 'subject': '', 'keywords': '', 'moddate': '', 'trapped': '', 'page': 0}\n",
      "{'producer': 'PDFium', 'creator': 'PDFium', 'creationdate': 'D:20240826080442', 'source': '/Users/user/Documents/98.project/service-platform/app/data/test.pdf', 'file_path': '/Users/user/Documents/98.project/service-platform/app/data/test.pdf', 'total_pages': 1, 'format': 'PDF 1.7', 'title': '', 'author': '', 'subject': '', 'keywords': '', 'moddate': '', 'trapped': '', 'page': 0}\n",
      "{'producer': 'PDFium', 'creator': 'PDFium', 'creationdate': 'D:20240826080442', 'source': '/Users/user/Documents/98.project/service-platform/app/data/test.pdf', 'file_path': '/Users/user/Documents/98.project/service-platform/app/data/test.pdf', 'total_pages': 1, 'format': 'PDF 1.7', 'title': '', 'author': '', 'subject': '', 'keywords': '', 'moddate': '', 'trapped': '', 'page': 0}\n",
      "{'producer': 'PDFium', 'creator': 'PDFium', 'creationdate': 'D:20240826080442', 'source': '/Users/user/Documents/98.project/service-platform/app/data/test.pdf', 'file_path': '/Users/user/Documents/98.project/service-platform/app/data/test.pdf', 'total_pages': 1, 'format': 'PDF 1.7', 'title': '', 'author': '', 'subject': '', 'keywords': '', 'moddate': '', 'trapped': '', 'page': 0}\n",
      "{'producer': 'PDFium', 'creator': 'PDFium', 'creationdate': 'D:20240826080442', 'source': '/Users/user/Documents/98.project/service-platform/app/data/test.pdf', 'file_path': '/Users/user/Documents/98.project/service-platform/app/data/test.pdf', 'total_pages': 1, 'format': 'PDF 1.7', 'title': '', 'author': '', 'subject': '', 'keywords': '', 'moddate': '', 'trapped': '', 'page': 0}\n",
      "{'producer': 'PDFium', 'creator': 'PDFium', 'creationdate': 'D:20240826080442', 'source': '/Users/user/Documents/98.project/service-platform/app/data/test.pdf', 'file_path': '/Users/user/Documents/98.project/service-platform/app/data/test.pdf', 'total_pages': 1, 'format': 'PDF 1.7', 'title': '', 'author': '', 'subject': '', 'keywords': '', 'moddate': '', 'trapped': '', 'page': 0}\n",
      "{'producer': 'PDFium', 'creator': 'PDFium', 'creationdate': 'D:20240826080442', 'source': '/Users/user/Documents/98.project/service-platform/app/data/test.pdf', 'file_path': '/Users/user/Documents/98.project/service-platform/app/data/test.pdf', 'total_pages': 1, 'format': 'PDF 1.7', 'title': '', 'author': '', 'subject': '', 'keywords': '', 'moddate': '', 'trapped': '', 'page': 0}\n"
     ]
    }
   ],
   "source": [
    "from langchain_community.vectorstores import FAISS\n",
    "from langchain_community.document_loaders import PyMuPDFLoader\n",
    "from langchain.text_splitter import RecursiveCharacterTextSplitter\n",
    "from langchain_openai import AzureOpenAIEmbeddings\n",
    "import os\n",
    "file_path = f\"{os.getcwd()}/app/data/test.pdf\"\n",
    "documents=PyMuPDFLoader(file_path).load()\n",
    "splitter = RecursiveCharacterTextSplitter(chunk_size=30, chunk_overlap=10)\n",
    "splits = splitter.split_documents(documents)\n",
    "print(len(splits))\n",
    "for doc in splits:\n",
    "    print(doc.metadata)\n",
    "\n",
    "embeddings = AzureOpenAIEmbeddings(\n",
    "    azure_endpoint=\"https://dn-aoai-east-us.openai.azure.com/\",\n",
    "    deployment=\"DN-text-embedding-3-small\",\n",
    "    openai_api_key=\"BXCs988ooSntF5CbLixyOeqUdtlNXduu14T2Q1mFxqNf9WCU12JPJQQJ99BAACYeBjFXJ3w3AAABACOGXw40\"\n",
    ")\n",
    "vectorstore = FAISS.from_documents(splits,embedding = embeddings)\n",
    "# 파일 업로드시 vectorstore를 로컬에 저장\n",
    "vectorstore_path=f\"{os.getcwd()}/app/data\"\n",
    "vectorstore.save_local(vectorstore_path)\n"
   ]
  },
  {
   "cell_type": "code",
   "execution_count": null,
   "metadata": {},
   "outputs": [
    {
     "name": "stdout",
     "output_type": "stream",
     "text": [
      "page_content='성    명 :  장준혁' metadata={'producer': 'PDFium', 'creator': 'PDFium', 'creationdate': 'D:20240826080442', 'source': '/Users/user/Documents/98.project/service-platform/app/data/test.pdf', 'file_path': '/Users/user/Documents/98.project/service-platform/app/data/test.pdf', 'total_pages': 1, 'format': 'PDF 1.7', 'title': '', 'author': '', 'subject': '', 'keywords': '', 'moddate': '', 'trapped': '', 'page': 0}\n",
      "1\n",
      "page_content='과 정 명 :  1존 생활안전' metadata={'producer': 'PDFium', 'creator': 'PDFium', 'creationdate': 'D:20240826080442', 'source': '/Users/user/Documents/98.project/service-platform/app/data/test.pdf', 'file_path': '/Users/user/Documents/98.project/service-platform/app/data/test.pdf', 'total_pages': 1, 'format': 'PDF 1.7', 'title': '', 'author': '', 'subject': '', 'keywords': '', 'moddate': '', 'trapped': '', 'page': 0}\n",
      "1\n",
      "page_content='귀하는 경기도국민안전체험관 1존 생활안전' metadata={'producer': 'PDFium', 'creator': 'PDFium', 'creationdate': 'D:20240826080442', 'source': '/Users/user/Documents/98.project/service-platform/app/data/test.pdf', 'file_path': '/Users/user/Documents/98.project/service-platform/app/data/test.pdf', 'total_pages': 1, 'format': 'PDF 1.7', 'title': '', 'author': '', 'subject': '', 'keywords': '', 'moddate': '', 'trapped': '', 'page': 0}\n",
      "1\n",
      "page_content='제 2024 - 0000534800\n",
      "체 험 수 료 증' metadata={'producer': 'PDFium', 'creator': 'PDFium', 'creationdate': 'D:20240826080442', 'source': '/Users/user/Documents/98.project/service-platform/app/data/test.pdf', 'file_path': '/Users/user/Documents/98.project/service-platform/app/data/test.pdf', 'total_pages': 1, 'format': 'PDF 1.7', 'title': '', 'author': '', 'subject': '', 'keywords': '', 'moddate': '', 'trapped': '', 'page': 0}\n",
      "1\n"
     ]
    }
   ],
   "source": [
    "# 채팅시 retriever시 vertostore 호출\n",
    "vectorstore_path=f\"{os.getcwd()}/app/data\"\n",
    "vectorstore=FAISS.load_local(vectorstore_path, embeddings,allow_dangerous_deserialization=True)\n",
    "query = '장준혁'\n",
    "docs = vectorstore.similarity_search(query)\n",
    "for doc in docs:\n",
    "    print(doc)\n"
   ]
  },
  {
   "cell_type": "code",
   "execution_count": null,
   "metadata": {},
   "outputs": [],
   "source": [
    "from langchain.prompts import ChatPromptTemplate\n",
    "prompt = ChatPromptTemplate.from_messages(\n",
    "    [\n",
    "        (\n",
    "            \"system\",\n",
    "            \"\"\"\n",
    "            Answer the question using ONLY the following context. If you don't know the answer just say you don't know. DON'T make anything up.\n",
    "            \n",
    "            Context: {context}\n",
    "            \"\"\",\n",
    "        ),\n",
    "        (\"human\", \"{question}\"),\n",
    "    ]\n",
    ")\n",
    "\n",
    "def extract_metadata(docs_with_metadata):\n",
    "    metadata = [doc_metadata for doc, doc_metadata in docs_with_metadata]\n",
    "    return metadata\n",
    "\n",
    "\n",
    "def format_docs(docs):\n",
    "    return \"\\n\\n\".join(document.page_content for document in docs)\n",
    "\n",
    "class MetaDataRetriever:\n",
    "    def __init__(self, retriever):\n",
    "        self.retriever = retriever\n",
    "        self.metadata = None\n",
    "\n",
    "    def __call__(self, *args, **kwargs):\n",
    "        result = self.retriever(*args, **kwargs)\n",
    "        self.metadata = extract_metadata(result)  \n",
    "        return result\n",
    "\n",
    "    def get_metadata(self):\n",
    "        return self.metadata\n",
    "\n",
    "\n",
    "vectorstore_path=f\"{os.getcwd()}/app/data\"\n",
    "vectorstore=FAISS.load_local(vectorstore_path, embeddings,allow_dangerous_deserialization=True)\n",
    "metadata_retriever = MetaDataRetriever(vectorstore.as_retriever())\n",
    "\n",
    "\n",
    "from langchain.schema.runnable import RunnableLambda, RunnablePassthrough\n",
    "from langchain_openai import AzureOpenAIEmbeddings, AzureChatOpenAI\n",
    "message=\" 성명 알려줘\"\n",
    "chain = (\n",
    "    {\n",
    "        \"context\": metadata_retriever | RunnableLambda(format_docs),\n",
    "        \"question\": RunnablePassthrough(),\n",
    "    }\n",
    "    | prompt\n",
    "    | AzureChatOpenAI(\n",
    "        api_version=os.getenv(\"API_VERSION\"),\n",
    "        azure_endpoint=os.getenv(\"ENDPOINT\"),\n",
    "        azure_deployment=os.getenv(\"CHAT_MODEL\"),\n",
    "        api_key=os.getenv(\"API_KEY\"),\n",
    "        streaming=True,\n",
    "    )\n",
    ")\n",
    "response = chain.invoke(message)\n",
    "print(response)\n",
    "metadata = metadata_retriever.get_metadata()\n",
    "print(metadata)\n"
   ]
  }
 ],
 "metadata": {
  "kernelspec": {
   "display_name": "venv",
   "language": "python",
   "name": "python3"
  },
  "language_info": {
   "codemirror_mode": {
    "name": "ipython",
    "version": 3
   },
   "file_extension": ".py",
   "mimetype": "text/x-python",
   "name": "python",
   "nbconvert_exporter": "python",
   "pygments_lexer": "ipython3",
   "version": "3.11.3"
  }
 },
 "nbformat": 4,
 "nbformat_minor": 2
}
